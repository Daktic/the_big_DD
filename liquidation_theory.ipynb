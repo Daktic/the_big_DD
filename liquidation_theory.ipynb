{
 "metadata": {
  "language_info": {
   "codemirror_mode": {
    "name": "ipython",
    "version": 3
   },
   "file_extension": ".py",
   "mimetype": "text/x-python",
   "name": "python",
   "nbconvert_exporter": "python",
   "pygments_lexer": "ipython3",
   "version": "3.9.1-final"
  },
  "orig_nbformat": 2,
  "kernelspec": {
   "name": "python3",
   "display_name": "Python 3",
   "language": "python"
  }
 },
 "nbformat": 4,
 "nbformat_minor": 2,
 "cells": [
  {
   "source": [
    "Liquidation Theory"
   ],
   "cell_type": "markdown",
   "metadata": {}
  },
  {
   "cell_type": "code",
   "execution_count": 74,
   "metadata": {},
   "outputs": [],
   "source": [
    "import pandas as pd \n"
   ]
  },
  {
   "cell_type": "code",
   "execution_count": 75,
   "metadata": {},
   "outputs": [
    {
     "output_type": "stream",
     "name": "stdout",
     "text": [
      "   Unnamed: 0             begins_at  open_price  close_price  high_price  \\\n0           0  2021-02-08T15:00:00Z    113.5750      113.690    113.8200   \n1           1  2021-02-08T16:00:00Z    113.6950      113.220    113.8200   \n2           2  2021-02-08T17:00:00Z    113.2633      113.050    113.4200   \n3           3  2021-02-08T18:00:00Z    113.0200      112.765    113.2299   \n4           4  2021-02-08T19:00:00Z    112.7329      112.970    113.0000   \n\n   low_price    volume session  interpolated symbol  \n0    113.200  259516.0     reg           0.0   FISV  \n1    113.140  245305.0     reg           0.0   FISV  \n2    112.890   95696.0     reg           0.0   FISV  \n3    112.565  130608.0     reg           0.0   FISV  \n4    112.610   85576.0     reg           0.0   FISV  \n"
     ]
    }
   ],
   "source": [
    "df_ww = pd.read_csv('Documents/Whale_wisdom/melvin_capital_management_lp-current-2021-02-13_16_11_41.csv') #make df out of csv\n",
    "ticker_list = [i for i in df_ww['Symbol']] #list of stocks they own by symbol\n",
    "\n",
    "df_sh = pd.read_csv('Documents/scrape/7day_stockhist_melvin_portfolio.csv')\n",
    "print(df_sh.head())"
   ]
  },
  {
   "cell_type": "code",
   "execution_count": null,
   "metadata": {},
   "outputs": [],
   "source": []
  }
 ]
}